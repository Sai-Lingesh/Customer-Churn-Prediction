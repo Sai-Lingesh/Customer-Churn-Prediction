{
 "cells": [
  {
   "cell_type": "markdown",
   "id": "7c3ecd8a",
   "metadata": {
    "id": "18ae956a"
   },
   "source": [
    "# Customer Churn Prediction Analysis"
   ]
  },
  {
   "cell_type": "markdown",
   "id": "ead48d3a",
   "metadata": {},
   "source": [
    " "
   ]
  },
  {
   "cell_type": "markdown",
   "id": "11d3f384",
   "metadata": {
    "id": "56e874ef"
   },
   "source": [
    "# Exploratory Data Analysis"
   ]
  },
  {
   "cell_type": "code",
   "execution_count": 1,
   "id": "e7abd917",
   "metadata": {
    "id": "083f7c20"
   },
   "outputs": [],
   "source": [
    "# Importing Required Library"
   ]
  },
  {
   "cell_type": "code",
   "execution_count": 2,
   "id": "a6c88c86",
   "metadata": {
    "id": "2c27583a"
   },
   "outputs": [],
   "source": [
    "import warnings\n",
    "warnings.filterwarnings(\"ignore\")\n",
    "\n",
    "import pandas as pd"
   ]
  },
  {
   "cell_type": "code",
   "execution_count": 3,
   "id": "56685200",
   "metadata": {
    "id": "cb6c8371"
   },
   "outputs": [],
   "source": [
    "df = pd.read_csv(\"SAI_LINGESH.csv\")"
   ]
  },
  {
   "cell_type": "code",
   "execution_count": 4,
   "id": "c24e3053",
   "metadata": {
    "colab": {
     "base_uri": "https://localhost:8080/",
     "height": 206
    },
    "id": "21ed5945",
    "outputId": "3a208f29-b049-4ab7-b787-ed05144787d7"
   },
   "outputs": [
    {
     "data": {
      "text/html": [
       "<div>\n",
       "<style scoped>\n",
       "    .dataframe tbody tr th:only-of-type {\n",
       "        vertical-align: middle;\n",
       "    }\n",
       "\n",
       "    .dataframe tbody tr th {\n",
       "        vertical-align: top;\n",
       "    }\n",
       "\n",
       "    .dataframe thead th {\n",
       "        text-align: right;\n",
       "    }\n",
       "</style>\n",
       "<table border=\"1\" class=\"dataframe\">\n",
       "  <thead>\n",
       "    <tr style=\"text-align: right;\">\n",
       "      <th></th>\n",
       "      <th>CustomerID</th>\n",
       "      <th>Age</th>\n",
       "      <th>Gender</th>\n",
       "      <th>Tenure</th>\n",
       "      <th>MonthlyCharges</th>\n",
       "      <th>ContractType</th>\n",
       "      <th>InternetService</th>\n",
       "      <th>TotalCharges</th>\n",
       "      <th>TechSupport</th>\n",
       "      <th>Churn</th>\n",
       "    </tr>\n",
       "  </thead>\n",
       "  <tbody>\n",
       "    <tr>\n",
       "      <th>0</th>\n",
       "      <td>1</td>\n",
       "      <td>49</td>\n",
       "      <td>Male</td>\n",
       "      <td>4</td>\n",
       "      <td>88.35</td>\n",
       "      <td>Month-to-Month</td>\n",
       "      <td>Fiber Optic</td>\n",
       "      <td>353.40</td>\n",
       "      <td>Yes</td>\n",
       "      <td>Yes</td>\n",
       "    </tr>\n",
       "    <tr>\n",
       "      <th>1</th>\n",
       "      <td>2</td>\n",
       "      <td>43</td>\n",
       "      <td>Male</td>\n",
       "      <td>0</td>\n",
       "      <td>36.67</td>\n",
       "      <td>Month-to-Month</td>\n",
       "      <td>Fiber Optic</td>\n",
       "      <td>0.00</td>\n",
       "      <td>Yes</td>\n",
       "      <td>Yes</td>\n",
       "    </tr>\n",
       "    <tr>\n",
       "      <th>2</th>\n",
       "      <td>3</td>\n",
       "      <td>51</td>\n",
       "      <td>Female</td>\n",
       "      <td>2</td>\n",
       "      <td>63.79</td>\n",
       "      <td>Month-to-Month</td>\n",
       "      <td>Fiber Optic</td>\n",
       "      <td>127.58</td>\n",
       "      <td>No</td>\n",
       "      <td>Yes</td>\n",
       "    </tr>\n",
       "    <tr>\n",
       "      <th>3</th>\n",
       "      <td>4</td>\n",
       "      <td>60</td>\n",
       "      <td>Female</td>\n",
       "      <td>8</td>\n",
       "      <td>102.34</td>\n",
       "      <td>One-Year</td>\n",
       "      <td>DSL</td>\n",
       "      <td>818.72</td>\n",
       "      <td>Yes</td>\n",
       "      <td>Yes</td>\n",
       "    </tr>\n",
       "    <tr>\n",
       "      <th>4</th>\n",
       "      <td>5</td>\n",
       "      <td>42</td>\n",
       "      <td>Male</td>\n",
       "      <td>32</td>\n",
       "      <td>69.01</td>\n",
       "      <td>Month-to-Month</td>\n",
       "      <td>None</td>\n",
       "      <td>2208.32</td>\n",
       "      <td>No</td>\n",
       "      <td>Yes</td>\n",
       "    </tr>\n",
       "  </tbody>\n",
       "</table>\n",
       "</div>"
      ],
      "text/plain": [
       "   CustomerID  Age  Gender  Tenure  MonthlyCharges    ContractType  \\\n",
       "0           1   49    Male       4           88.35  Month-to-Month   \n",
       "1           2   43    Male       0           36.67  Month-to-Month   \n",
       "2           3   51  Female       2           63.79  Month-to-Month   \n",
       "3           4   60  Female       8          102.34        One-Year   \n",
       "4           5   42    Male      32           69.01  Month-to-Month   \n",
       "\n",
       "  InternetService  TotalCharges TechSupport Churn  \n",
       "0     Fiber Optic        353.40         Yes   Yes  \n",
       "1     Fiber Optic          0.00         Yes   Yes  \n",
       "2     Fiber Optic        127.58          No   Yes  \n",
       "3             DSL        818.72         Yes   Yes  \n",
       "4            None       2208.32          No   Yes  "
      ]
     },
     "execution_count": 4,
     "metadata": {},
     "output_type": "execute_result"
    }
   ],
   "source": [
    "df.head()"
   ]
  },
  {
   "cell_type": "code",
   "execution_count": 5,
   "id": "ada3d360",
   "metadata": {
    "colab": {
     "base_uri": "https://localhost:8080/"
    },
    "id": "9649a6fe",
    "outputId": "780aa06c-317b-4d70-ae58-7e7d95bef252"
   },
   "outputs": [
    {
     "name": "stdout",
     "output_type": "stream",
     "text": [
      "<class 'pandas.core.frame.DataFrame'>\n",
      "RangeIndex: 1000 entries, 0 to 999\n",
      "Data columns (total 10 columns):\n",
      " #   Column           Non-Null Count  Dtype  \n",
      "---  ------           --------------  -----  \n",
      " 0   CustomerID       1000 non-null   int64  \n",
      " 1   Age              1000 non-null   int64  \n",
      " 2   Gender           1000 non-null   object \n",
      " 3   Tenure           1000 non-null   int64  \n",
      " 4   MonthlyCharges   1000 non-null   float64\n",
      " 5   ContractType     1000 non-null   object \n",
      " 6   InternetService  1000 non-null   object \n",
      " 7   TotalCharges     1000 non-null   float64\n",
      " 8   TechSupport      1000 non-null   object \n",
      " 9   Churn            1000 non-null   object \n",
      "dtypes: float64(2), int64(3), object(5)\n",
      "memory usage: 78.2+ KB\n"
     ]
    }
   ],
   "source": [
    "df.info()"
   ]
  },
  {
   "cell_type": "code",
   "execution_count": 6,
   "id": "28d9bd86",
   "metadata": {
    "colab": {
     "base_uri": "https://localhost:8080/",
     "height": 397
    },
    "id": "df20ea2d",
    "outputId": "fc741fce-908b-4214-fef4-6ce9dfa234df"
   },
   "outputs": [
    {
     "data": {
      "text/plain": [
       "CustomerID         0\n",
       "Age                0\n",
       "Gender             0\n",
       "Tenure             0\n",
       "MonthlyCharges     0\n",
       "ContractType       0\n",
       "InternetService    0\n",
       "TotalCharges       0\n",
       "TechSupport        0\n",
       "Churn              0\n",
       "dtype: int64"
      ]
     },
     "execution_count": 6,
     "metadata": {},
     "output_type": "execute_result"
    }
   ],
   "source": [
    "df.isna().sum()"
   ]
  },
  {
   "cell_type": "code",
   "execution_count": 7,
   "id": "e1f19202",
   "metadata": {
    "colab": {
     "base_uri": "https://localhost:8080/"
    },
    "id": "24d2c4f0",
    "outputId": "ecfffdfa-0f58-435b-8b29-c53ab31afafe"
   },
   "outputs": [
    {
     "data": {
      "text/plain": [
       "0"
      ]
     },
     "execution_count": 7,
     "metadata": {},
     "output_type": "execute_result"
    }
   ],
   "source": [
    "df.duplicated().sum()"
   ]
  },
  {
   "cell_type": "code",
   "execution_count": 8,
   "id": "075566c2",
   "metadata": {
    "colab": {
     "base_uri": "https://localhost:8080/",
     "height": 206
    },
    "id": "4a941438",
    "outputId": "f1e079bc-4cec-4c62-d363-604b2445b748"
   },
   "outputs": [
    {
     "data": {
      "text/html": [
       "<div>\n",
       "<style scoped>\n",
       "    .dataframe tbody tr th:only-of-type {\n",
       "        vertical-align: middle;\n",
       "    }\n",
       "\n",
       "    .dataframe tbody tr th {\n",
       "        vertical-align: top;\n",
       "    }\n",
       "\n",
       "    .dataframe thead th {\n",
       "        text-align: right;\n",
       "    }\n",
       "</style>\n",
       "<table border=\"1\" class=\"dataframe\">\n",
       "  <thead>\n",
       "    <tr style=\"text-align: right;\">\n",
       "      <th></th>\n",
       "      <th>count</th>\n",
       "      <th>mean</th>\n",
       "      <th>std</th>\n",
       "      <th>min</th>\n",
       "      <th>25%</th>\n",
       "      <th>50%</th>\n",
       "      <th>75%</th>\n",
       "      <th>max</th>\n",
       "    </tr>\n",
       "  </thead>\n",
       "  <tbody>\n",
       "    <tr>\n",
       "      <th>CustomerID</th>\n",
       "      <td>1000.0</td>\n",
       "      <td>500.50000</td>\n",
       "      <td>288.819436</td>\n",
       "      <td>1.0</td>\n",
       "      <td>250.7500</td>\n",
       "      <td>500.50</td>\n",
       "      <td>750.2500</td>\n",
       "      <td>1000.00</td>\n",
       "    </tr>\n",
       "    <tr>\n",
       "      <th>Age</th>\n",
       "      <td>1000.0</td>\n",
       "      <td>44.67400</td>\n",
       "      <td>9.797741</td>\n",
       "      <td>12.0</td>\n",
       "      <td>38.0000</td>\n",
       "      <td>45.00</td>\n",
       "      <td>51.0000</td>\n",
       "      <td>83.00</td>\n",
       "    </tr>\n",
       "    <tr>\n",
       "      <th>Tenure</th>\n",
       "      <td>1000.0</td>\n",
       "      <td>18.97300</td>\n",
       "      <td>18.892570</td>\n",
       "      <td>0.0</td>\n",
       "      <td>5.0000</td>\n",
       "      <td>13.00</td>\n",
       "      <td>26.0000</td>\n",
       "      <td>122.00</td>\n",
       "    </tr>\n",
       "    <tr>\n",
       "      <th>MonthlyCharges</th>\n",
       "      <td>1000.0</td>\n",
       "      <td>74.39129</td>\n",
       "      <td>25.712083</td>\n",
       "      <td>30.0</td>\n",
       "      <td>52.3575</td>\n",
       "      <td>74.06</td>\n",
       "      <td>96.1025</td>\n",
       "      <td>119.96</td>\n",
       "    </tr>\n",
       "    <tr>\n",
       "      <th>TotalCharges</th>\n",
       "      <td>1000.0</td>\n",
       "      <td>1404.36406</td>\n",
       "      <td>1571.755048</td>\n",
       "      <td>0.0</td>\n",
       "      <td>345.2175</td>\n",
       "      <td>872.87</td>\n",
       "      <td>1900.1750</td>\n",
       "      <td>12416.25</td>\n",
       "    </tr>\n",
       "  </tbody>\n",
       "</table>\n",
       "</div>"
      ],
      "text/plain": [
       "                 count        mean          std   min       25%     50%  \\\n",
       "CustomerID      1000.0   500.50000   288.819436   1.0  250.7500  500.50   \n",
       "Age             1000.0    44.67400     9.797741  12.0   38.0000   45.00   \n",
       "Tenure          1000.0    18.97300    18.892570   0.0    5.0000   13.00   \n",
       "MonthlyCharges  1000.0    74.39129    25.712083  30.0   52.3575   74.06   \n",
       "TotalCharges    1000.0  1404.36406  1571.755048   0.0  345.2175  872.87   \n",
       "\n",
       "                      75%       max  \n",
       "CustomerID       750.2500   1000.00  \n",
       "Age               51.0000     83.00  \n",
       "Tenure            26.0000    122.00  \n",
       "MonthlyCharges    96.1025    119.96  \n",
       "TotalCharges    1900.1750  12416.25  "
      ]
     },
     "execution_count": 8,
     "metadata": {},
     "output_type": "execute_result"
    }
   ],
   "source": [
    "df.describe().T"
   ]
  },
  {
   "cell_type": "code",
   "execution_count": 9,
   "id": "7292ccb9",
   "metadata": {
    "id": "6861a209"
   },
   "outputs": [],
   "source": [
    "numerical_columns_data = df.select_dtypes(include = [\"number\"])"
   ]
  },
  {
   "cell_type": "code",
   "execution_count": 10,
   "id": "00c96fc6",
   "metadata": {
    "colab": {
     "base_uri": "https://localhost:8080/"
    },
    "id": "03d93db9",
    "outputId": "9e769107-4885-4722-bfb2-28a695831eae"
   },
   "outputs": [
    {
     "name": "stdout",
     "output_type": "stream",
     "text": [
      "                CustomerID       Age    Tenure  MonthlyCharges  TotalCharges\n",
      "CustomerID        1.000000  0.036730 -0.018585       -0.030504     -0.027490\n",
      "Age               0.036730  1.000000  0.000472        0.006362     -0.001896\n",
      "Tenure           -0.018585  0.000472  1.000000       -0.014552      0.894868\n",
      "MonthlyCharges   -0.030504  0.006362 -0.014552        1.000000      0.304893\n",
      "TotalCharges     -0.027490 -0.001896  0.894868        0.304893      1.000000\n"
     ]
    }
   ],
   "source": [
    "print(numerical_columns_data.corr())"
   ]
  },
  {
   "cell_type": "code",
   "execution_count": 11,
   "id": "98c2c70e",
   "metadata": {
    "id": "3ba7a09b"
   },
   "outputs": [],
   "source": [
    "# -1 : Strong Negative Correlation\n",
    "# 1 : Strong Positive Correlation"
   ]
  },
  {
   "cell_type": "markdown",
   "id": "ef785457",
   "metadata": {},
   "source": [
    "# Data Visualization"
   ]
  },
  {
   "cell_type": "code",
   "execution_count": 12,
   "id": "338f5249",
   "metadata": {},
   "outputs": [],
   "source": [
    "import matplotlib.pyplot as plt\n",
    "import seaborn as sns"
   ]
  },
  {
   "cell_type": "code",
   "execution_count": 13,
   "id": "b9670cb7",
   "metadata": {},
   "outputs": [
    {
     "data": {
      "image/png": "[encoded data removed]",
      "text/plain": [
       "<Figure size 720x576 with 1 Axes>"
      ]
     },
     "metadata": {
      "needs_background": "light"
     },
     "output_type": "display_data"
    }
   ],
   "source": [
    "corr_matrix = numerical_columns_data.corr()\n",
    "\n",
    "# Filter for strong correlations (positive > 0.7 or negative < -0.7)\n",
    "strong_corr = corr_matrix[(corr_matrix > 0.7) | (corr_matrix < -0.7)]\n",
    "\n",
    "# Remove the diagonal (set it to NaN)\n",
    "for i in range(len(strong_corr)):\n",
    "    strong_corr.iloc[i, i] = None\n",
    "\n",
    "plt.figure(figsize = (10, 8))\n",
    "sns.heatmap(\n",
    "    strong_corr, \n",
    "    annot = True, \n",
    "    fmt = \".2f\", \n",
    "    cmap = \"coolwarm\", \n",
    "    center = 0, \n",
    "    linewidths = 0.01, \n",
    "    linecolor = \"black\", \n",
    "    cbar = False\n",
    ")\n",
    "\n",
    "plt.title(\"Strong Positive and Negative Correlations\", fontsize=14, fontweight=\"bold\")\n",
    "plt.tight_layout()\n",
    "plt.show()"
   ]
  },
  {
   "cell_type": "code",
   "execution_count": 14,
   "id": "5d3ebd73",
   "metadata": {},
   "outputs": [
    {
     "data": {
      "image/png": "[encoded data removed]",
      "text/plain": [
       "<Figure size 432x288 with 1 Axes>"
      ]
     },
     "metadata": {},
     "output_type": "display_data"
    }
   ],
   "source": [
    "df[\"Churn\"].value_counts().plot(\n",
    "    kind = \"pie\", \n",
    "    autopct = '%1.1f%%',\n",
    "    startangle = 90,\n",
    "    colors = [\"lightblue\", \"salmon\"],\n",
    "    wedgeprops = {'edgecolor': 'black'},\n",
    "    explode = [0.2, 0]\n",
    ")\n",
    "\n",
    "plt.title(\"Churn Distribution: Yes vs No\", fontsize = 14, fontweight = \"bold\")\n",
    "plt.ylabel(\"\")\n",
    "plt.legend([\"No\", \"Yes\"], title = \"Churn\", bbox_to_anchor = (1, 1), loc = \"upper left\")  \n",
    "plt.tight_layout()\n",
    "plt.show()"
   ]
  },
  {
   "cell_type": "code",
   "execution_count": 15,
   "id": "98153159",
   "metadata": {},
   "outputs": [
    {
     "data": {
      "image/png": "[encoded data removed]",
      "text/plain": [
       "<Figure size 432x432 with 1 Axes>"
      ]
     },
     "metadata": {
      "needs_background": "light"
     },
     "output_type": "display_data"
    }
   ],
   "source": [
    "mean_charges = df.groupby(\"Churn\")[\"MonthlyCharges\"].mean()\n",
    "\n",
    "mean_charges.plot(\n",
    "    kind = \"bar\", \n",
    "    color = [\"salmon\", \"lightblue\"],\n",
    "    edgecolor = \"black\",\n",
    "    figsize = (6, 6)\n",
    ")\n",
    "\n",
    "plt.title(\"Average Monthly Charges by Churn Status\", fontsize = 14, fontweight = \"bold\")\n",
    "plt.xlabel(\"Churn\", fontsize = 12)\n",
    "plt.ylabel(\"Average Monthly Charges ($)\", fontsize = 12)\n",
    "\n",
    "for i, value in enumerate(mean_charges):\n",
    "    plt.text(i, value + 1, f\"${value:.2f}\", ha = \"center\", fontsize = 10, color = \"black\")\n",
    "\n",
    "plt.xticks(rotation = 0)\n",
    "plt.tight_layout()\n",
    "plt.show()"
   ]
  },
  {
   "cell_type": "code",
   "execution_count": 16,
   "id": "d292b71e",
   "metadata": {},
   "outputs": [
    {
     "data": {
      "image/png": "[encoded data removed]",
      "text/plain": [
       "<Figure size 576x432 with 1 Axes>"
      ]
     },
     "metadata": {
      "needs_background": "light"
     },
     "output_type": "display_data"
    }
   ],
   "source": [
    "mean_charges = df.groupby([\"Churn\", \"Gender\"])[\"MonthlyCharges\"].mean().unstack()\n",
    "\n",
    "mean_charges.plot(\n",
    "    kind = \"bar\", \n",
    "    color = [\"salmon\", \"lightblue\"], \n",
    "    edgecolor = \"black\", \n",
    "    figsize = (8, 6)\n",
    ")\n",
    "\n",
    "plt.title(\"Average Monthly Charges by Churn and Gender\", fontsize = 14, fontweight = \"bold\")\n",
    "plt.xlabel(\"Gender\", fontsize = 12)\n",
    "plt.ylabel(\"Average Monthly Charges ($)\", fontsize = 12)\n",
    "plt.xticks(rotation = 0)\n",
    "plt.legend(title = \"Churn\", bbox_to_anchor = (1.05, 1), loc = \"upper left\")\n",
    "\n",
    "for i in range(len(mean_charges)):\n",
    "    for j, value in enumerate(mean_charges.iloc[i]):\n",
    "        plt.text(\n",
    "            i + (j - 0.5) * 0.2, \n",
    "            value + 1, \n",
    "            f\"${value:.2f}\", \n",
    "            ha = \"center\", \n",
    "            fontsize = 9, \n",
    "            color = \"black\"\n",
    "        )\n",
    "\n",
    "plt.tight_layout()\n",
    "plt.show()"
   ]
  },
  {
   "cell_type": "code",
   "execution_count": 17,
   "id": "ebded617",
   "metadata": {},
   "outputs": [
    {
     "data": {
      "image/png": "[encoded data removed]",
      "text/plain": [
       "<Figure size 396x576 with 1 Axes>"
      ]
     },
     "metadata": {
      "needs_background": "light"
     },
     "output_type": "display_data"
    }
   ],
   "source": [
    "mean_tenure = df.groupby(\"Churn\")[\"Tenure\"].mean()\n",
    "\n",
    "mean_tenure.plot(\n",
    "    kind = \"bar\", \n",
    "    color = [\"salmon\", \"lightblue\"], \n",
    "    edgecolor = \"black\", \n",
    "    figsize = (5.5, 8)\n",
    ")\n",
    "\n",
    "plt.title(\"Average Tenure by Churn Status\", fontsize = 14, fontweight = \"bold\")\n",
    "plt.xlabel(\"Churn\", fontsize = 12)\n",
    "plt.ylabel(\"Average Tenure (Months)\", fontsize = 12)\n",
    "plt.xticks(rotation = 0)\n",
    "\n",
    "for i, value in enumerate(mean_tenure):\n",
    "    plt.text(i, value + 0.5, f\"{value:.2f}\", ha = \"center\", fontsize = 10, color = \"black\")\n",
    "\n",
    "plt.tight_layout()\n",
    "plt.show()"
   ]
  },
  {
   "cell_type": "code",
   "execution_count": 18,
   "id": "eb60fae0",
   "metadata": {},
   "outputs": [
    {
     "data": {
      "image/png": "[encoded data removed]",
      "text/plain": [
       "<Figure size 288x432 with 1 Axes>"
      ]
     },
     "metadata": {
      "needs_background": "light"
     },
     "output_type": "display_data"
    }
   ],
   "source": [
    "mean_age = df.groupby(\"Churn\")[\"Age\"].mean()\n",
    "\n",
    "mean_age.plot(\n",
    "    kind = \"bar\", \n",
    "    color = [\"skyblue\", \"orange\"], \n",
    "    edgecolor = \"black\", \n",
    "    figsize = (4, 6)\n",
    ")\n",
    "\n",
    "plt.title(\"Average Age by Churn Status\", fontsize = 14, fontweight = \"bold\")\n",
    "plt.xlabel(\"Churn\", fontsize = 12)\n",
    "plt.ylabel(\"Average Age (Years)\", fontsize = 12)\n",
    "plt.xticks(rotation = 0)\n",
    "\n",
    "for i, value in enumerate(mean_age):\n",
    "    plt.text(i, value + 0.5, f\"{value:.2f}\", ha = \"center\", fontsize = 10, color = \"black\")\n",
    "\n",
    "plt.tight_layout()\n",
    "plt.show()"
   ]
  },
  {
   "cell_type": "code",
   "execution_count": 19,
   "id": "1eb8d671",
   "metadata": {
    "id": "364bb565"
   },
   "outputs": [],
   "source": [
    "# At lower the terms we can see that the monthly charge average decreases."
   ]
  },
  {
   "cell_type": "code",
   "execution_count": 20,
   "id": "e1774f69",
   "metadata": {},
   "outputs": [
    {
     "data": {
      "image/png": "[encoded data removed]",
      "text/plain": [
       "<Figure size 504x360 with 1 Axes>"
      ]
     },
     "metadata": {
      "needs_background": "light"
     },
     "output_type": "display_data"
    }
   ],
   "source": [
    "df.groupby(\"ContractType\")[\"MonthlyCharges\"].mean().plot(\n",
    "    kind = \"bar\", \n",
    "    color = [\"skyblue\", \"lightgreen\", \"orange\"], \n",
    "    edgecolor = \"black\", \n",
    "    figsize = (7, 5)\n",
    ")\n",
    "\n",
    "plt.title(\"Average Monthly Charges by Contract Type\", fontsize = 14, fontweight = \"bold\")\n",
    "plt.ylabel(\"Average Monthly Charges ($)\", fontsize = 12)\n",
    "plt.xlabel(\"Contract Type\", fontsize = 12)\n",
    "plt.xticks(rotation = 0)\n",
    "\n",
    "for i, value in enumerate(df.groupby(\"ContractType\")[\"MonthlyCharges\"].mean()):\n",
    "    plt.text(i, value + 1, f\"${value:.2f}\", ha = \"center\", fontsize = 10, color = \"black\")\n",
    "\n",
    "plt.tight_layout()\n",
    "plt.show()"
   ]
  },
  {
   "cell_type": "code",
   "execution_count": 21,
   "id": "ebc20957",
   "metadata": {},
   "outputs": [
    {
     "data": {
      "image/png": "[encoded data removed]",
      "text/plain": [
       "<Figure size 432x288 with 1 Axes>"
      ]
     },
     "metadata": {
      "needs_background": "light"
     },
     "output_type": "display_data"
    }
   ],
   "source": [
    "plt.hist(df[\"MonthlyCharges\"], bins = 20, color = \"skyblue\", edgecolor = \"black\", alpha = 0.7)\n",
    "plt.title(\"Distribution of Monthly Charges\", fontsize = 14, fontweight = \"bold\")\n",
    "plt.xlabel(\"Monthly Charges ($)\", fontsize = 12)\n",
    "plt.ylabel(\"Frequency\", fontsize = 12)\n",
    "plt.grid(axis = \"y\", linestyle = \"--\", alpha = 0.7)\n",
    "plt.tight_layout()\n",
    "plt.show()"
   ]
  },
  {
   "cell_type": "code",
   "execution_count": 22,
   "id": "2db2e9dc",
   "metadata": {},
   "outputs": [
    {
     "data": {
      "image/png": "[encoded data removed]",
      "text/plain": [
       "<Figure size 432x288 with 1 Axes>"
      ]
     },
     "metadata": {
      "needs_background": "light"
     },
     "output_type": "display_data"
    }
   ],
   "source": [
    "plt.hist(df[\"Tenure\"], bins = 15, color = \"lightcoral\", edgecolor = \"black\", alpha = 0.7)\n",
    "plt.title(\"Distribution of Tenure\", fontsize = 14, fontweight = \"bold\")\n",
    "plt.xlabel(\"Tenure (Months)\", fontsize = 12)\n",
    "plt.ylabel(\"Frequency\", fontsize = 12)\n",
    "plt.grid(axis = \"y\", linestyle=\"--\", alpha = 0.7)\n",
    "plt.tight_layout()\n",
    "plt.show()"
   ]
  },
  {
   "cell_type": "markdown",
   "id": "5805c58a",
   "metadata": {},
   "source": [
    "# Splitting Data into X and y"
   ]
  },
  {
   "cell_type": "code",
   "execution_count": 23,
   "id": "cb43f88e",
   "metadata": {
    "id": "7fa54838"
   },
   "outputs": [],
   "source": [
    "y = df[[\"Churn\"]]\n",
    "\n",
    "X = df[[\"Age\", \"Gender\", \"Tenure\", \"MonthlyCharges\"]]"
   ]
  },
  {
   "cell_type": "code",
   "execution_count": 24,
   "id": "278bb18a",
   "metadata": {
    "colab": {
     "base_uri": "https://localhost:8080/",
     "height": 206
    },
    "id": "c1d194c1",
    "outputId": "4ed1fdc6-771a-4da3-deee-3fb269eb1b5f"
   },
   "outputs": [
    {
     "data": {
      "text/html": [
       "<div>\n",
       "<style scoped>\n",
       "    .dataframe tbody tr th:only-of-type {\n",
       "        vertical-align: middle;\n",
       "    }\n",
       "\n",
       "    .dataframe tbody tr th {\n",
       "        vertical-align: top;\n",
       "    }\n",
       "\n",
       "    .dataframe thead th {\n",
       "        text-align: right;\n",
       "    }\n",
       "</style>\n",
       "<table border=\"1\" class=\"dataframe\">\n",
       "  <thead>\n",
       "    <tr style=\"text-align: right;\">\n",
       "      <th></th>\n",
       "      <th>Churn</th>\n",
       "    </tr>\n",
       "  </thead>\n",
       "  <tbody>\n",
       "    <tr>\n",
       "      <th>0</th>\n",
       "      <td>Yes</td>\n",
       "    </tr>\n",
       "    <tr>\n",
       "      <th>1</th>\n",
       "      <td>Yes</td>\n",
       "    </tr>\n",
       "    <tr>\n",
       "      <th>2</th>\n",
       "      <td>Yes</td>\n",
       "    </tr>\n",
       "    <tr>\n",
       "      <th>3</th>\n",
       "      <td>Yes</td>\n",
       "    </tr>\n",
       "    <tr>\n",
       "      <th>4</th>\n",
       "      <td>Yes</td>\n",
       "    </tr>\n",
       "  </tbody>\n",
       "</table>\n",
       "</div>"
      ],
      "text/plain": [
       "  Churn\n",
       "0   Yes\n",
       "1   Yes\n",
       "2   Yes\n",
       "3   Yes\n",
       "4   Yes"
      ]
     },
     "execution_count": 24,
     "metadata": {},
     "output_type": "execute_result"
    }
   ],
   "source": [
    "y.head()"
   ]
  },
  {
   "cell_type": "code",
   "execution_count": 25,
   "id": "e9817339",
   "metadata": {
    "colab": {
     "base_uri": "https://localhost:8080/",
     "height": 206
    },
    "id": "dbb7e373",
    "outputId": "71f1bd15-a0d6-416c-9692-06f6d8b69bfc"
   },
   "outputs": [
    {
     "data": {
      "text/html": [
       "<div>\n",
       "<style scoped>\n",
       "    .dataframe tbody tr th:only-of-type {\n",
       "        vertical-align: middle;\n",
       "    }\n",
       "\n",
       "    .dataframe tbody tr th {\n",
       "        vertical-align: top;\n",
       "    }\n",
       "\n",
       "    .dataframe thead th {\n",
       "        text-align: right;\n",
       "    }\n",
       "</style>\n",
       "<table border=\"1\" class=\"dataframe\">\n",
       "  <thead>\n",
       "    <tr style=\"text-align: right;\">\n",
       "      <th></th>\n",
       "      <th>Age</th>\n",
       "      <th>Gender</th>\n",
       "      <th>Tenure</th>\n",
       "      <th>MonthlyCharges</th>\n",
       "    </tr>\n",
       "  </thead>\n",
       "  <tbody>\n",
       "    <tr>\n",
       "      <th>0</th>\n",
       "      <td>49</td>\n",
       "      <td>Male</td>\n",
       "      <td>4</td>\n",
       "      <td>88.35</td>\n",
       "    </tr>\n",
       "    <tr>\n",
       "      <th>1</th>\n",
       "      <td>43</td>\n",
       "      <td>Male</td>\n",
       "      <td>0</td>\n",
       "      <td>36.67</td>\n",
       "    </tr>\n",
       "    <tr>\n",
       "      <th>2</th>\n",
       "      <td>51</td>\n",
       "      <td>Female</td>\n",
       "      <td>2</td>\n",
       "      <td>63.79</td>\n",
       "    </tr>\n",
       "    <tr>\n",
       "      <th>3</th>\n",
       "      <td>60</td>\n",
       "      <td>Female</td>\n",
       "      <td>8</td>\n",
       "      <td>102.34</td>\n",
       "    </tr>\n",
       "    <tr>\n",
       "      <th>4</th>\n",
       "      <td>42</td>\n",
       "      <td>Male</td>\n",
       "      <td>32</td>\n",
       "      <td>69.01</td>\n",
       "    </tr>\n",
       "  </tbody>\n",
       "</table>\n",
       "</div>"
      ],
      "text/plain": [
       "   Age  Gender  Tenure  MonthlyCharges\n",
       "0   49    Male       4           88.35\n",
       "1   43    Male       0           36.67\n",
       "2   51  Female       2           63.79\n",
       "3   60  Female       8          102.34\n",
       "4   42    Male      32           69.01"
      ]
     },
     "execution_count": 25,
     "metadata": {},
     "output_type": "execute_result"
    }
   ],
   "source": [
    "X.head()"
   ]
  },
  {
   "cell_type": "code",
   "execution_count": 26,
   "id": "3e2e575b",
   "metadata": {
    "id": "cefb2876"
   },
   "outputs": [],
   "source": [
    "# 0 : Male\n",
    "# 1 : Female"
   ]
  },
  {
   "cell_type": "code",
   "execution_count": 27,
   "id": "8a3308e6",
   "metadata": {
    "id": "da7b58c8"
   },
   "outputs": [],
   "source": [
    "X[\"Gender\"] = X[\"Gender\"].apply(lambda x : 1 if x == \"Female\" else 0)"
   ]
  },
  {
   "cell_type": "code",
   "execution_count": 28,
   "id": "9263f648",
   "metadata": {
    "colab": {
     "base_uri": "https://localhost:8080/",
     "height": 206
    },
    "id": "88a29090",
    "outputId": "01580ae8-14f9-4b04-a513-c4e50d29ba6f"
   },
   "outputs": [
    {
     "data": {
      "text/html": [
       "<div>\n",
       "<style scoped>\n",
       "    .dataframe tbody tr th:only-of-type {\n",
       "        vertical-align: middle;\n",
       "    }\n",
       "\n",
       "    .dataframe tbody tr th {\n",
       "        vertical-align: top;\n",
       "    }\n",
       "\n",
       "    .dataframe thead th {\n",
       "        text-align: right;\n",
       "    }\n",
       "</style>\n",
       "<table border=\"1\" class=\"dataframe\">\n",
       "  <thead>\n",
       "    <tr style=\"text-align: right;\">\n",
       "      <th></th>\n",
       "      <th>Age</th>\n",
       "      <th>Gender</th>\n",
       "      <th>Tenure</th>\n",
       "      <th>MonthlyCharges</th>\n",
       "    </tr>\n",
       "  </thead>\n",
       "  <tbody>\n",
       "    <tr>\n",
       "      <th>0</th>\n",
       "      <td>49</td>\n",
       "      <td>0</td>\n",
       "      <td>4</td>\n",
       "      <td>88.35</td>\n",
       "    </tr>\n",
       "    <tr>\n",
       "      <th>1</th>\n",
       "      <td>43</td>\n",
       "      <td>0</td>\n",
       "      <td>0</td>\n",
       "      <td>36.67</td>\n",
       "    </tr>\n",
       "    <tr>\n",
       "      <th>2</th>\n",
       "      <td>51</td>\n",
       "      <td>1</td>\n",
       "      <td>2</td>\n",
       "      <td>63.79</td>\n",
       "    </tr>\n",
       "    <tr>\n",
       "      <th>3</th>\n",
       "      <td>60</td>\n",
       "      <td>1</td>\n",
       "      <td>8</td>\n",
       "      <td>102.34</td>\n",
       "    </tr>\n",
       "    <tr>\n",
       "      <th>4</th>\n",
       "      <td>42</td>\n",
       "      <td>0</td>\n",
       "      <td>32</td>\n",
       "      <td>69.01</td>\n",
       "    </tr>\n",
       "  </tbody>\n",
       "</table>\n",
       "</div>"
      ],
      "text/plain": [
       "   Age  Gender  Tenure  MonthlyCharges\n",
       "0   49       0       4           88.35\n",
       "1   43       0       0           36.67\n",
       "2   51       1       2           63.79\n",
       "3   60       1       8          102.34\n",
       "4   42       0      32           69.01"
      ]
     },
     "execution_count": 28,
     "metadata": {},
     "output_type": "execute_result"
    }
   ],
   "source": [
    "X.head()"
   ]
  },
  {
   "cell_type": "code",
   "execution_count": 29,
   "id": "dd374766",
   "metadata": {
    "colab": {
     "base_uri": "https://localhost:8080/"
    },
    "id": "072d1d0f",
    "outputId": "f92d136f-d887-47bb-e711-761b8b9880d5"
   },
   "outputs": [
    {
     "data": {
      "text/plain": [
       "numpy.int64"
      ]
     },
     "execution_count": 29,
     "metadata": {},
     "output_type": "execute_result"
    }
   ],
   "source": [
    "type(X[\"Gender\"][0])"
   ]
  },
  {
   "cell_type": "code",
   "execution_count": 30,
   "id": "87ca51dd",
   "metadata": {
    "id": "45050cb6"
   },
   "outputs": [],
   "source": [
    "y[\"Churn\"] = y[\"Churn\"].apply(lambda x : 1 if x == \"Yes\" else 0)"
   ]
  },
  {
   "cell_type": "code",
   "execution_count": 31,
   "id": "21a2bb6b",
   "metadata": {
    "colab": {
     "base_uri": "https://localhost:8080/",
     "height": 206
    },
    "id": "ece59728",
    "outputId": "239514e8-888e-45a8-c922-768c5e1d13b5"
   },
   "outputs": [
    {
     "data": {
      "text/html": [
       "<div>\n",
       "<style scoped>\n",
       "    .dataframe tbody tr th:only-of-type {\n",
       "        vertical-align: middle;\n",
       "    }\n",
       "\n",
       "    .dataframe tbody tr th {\n",
       "        vertical-align: top;\n",
       "    }\n",
       "\n",
       "    .dataframe thead th {\n",
       "        text-align: right;\n",
       "    }\n",
       "</style>\n",
       "<table border=\"1\" class=\"dataframe\">\n",
       "  <thead>\n",
       "    <tr style=\"text-align: right;\">\n",
       "      <th></th>\n",
       "      <th>Churn</th>\n",
       "    </tr>\n",
       "  </thead>\n",
       "  <tbody>\n",
       "    <tr>\n",
       "      <th>0</th>\n",
       "      <td>1</td>\n",
       "    </tr>\n",
       "    <tr>\n",
       "      <th>1</th>\n",
       "      <td>1</td>\n",
       "    </tr>\n",
       "    <tr>\n",
       "      <th>2</th>\n",
       "      <td>1</td>\n",
       "    </tr>\n",
       "    <tr>\n",
       "      <th>3</th>\n",
       "      <td>1</td>\n",
       "    </tr>\n",
       "    <tr>\n",
       "      <th>4</th>\n",
       "      <td>1</td>\n",
       "    </tr>\n",
       "  </tbody>\n",
       "</table>\n",
       "</div>"
      ],
      "text/plain": [
       "   Churn\n",
       "0      1\n",
       "1      1\n",
       "2      1\n",
       "3      1\n",
       "4      1"
      ]
     },
     "execution_count": 31,
     "metadata": {},
     "output_type": "execute_result"
    }
   ],
   "source": [
    "y.head()"
   ]
  },
  {
   "cell_type": "code",
   "execution_count": 32,
   "id": "b783900f",
   "metadata": {
    "colab": {
     "base_uri": "https://localhost:8080/"
    },
    "id": "954d09b9",
    "outputId": "77b998e4-adb4-43dd-982a-4f0d6b064d8c"
   },
   "outputs": [
    {
     "data": {
      "text/plain": [
       "numpy.int64"
      ]
     },
     "execution_count": 32,
     "metadata": {},
     "output_type": "execute_result"
    }
   ],
   "source": [
    "type(y[\"Churn\"][0])"
   ]
  },
  {
   "cell_type": "markdown",
   "id": "ddfeef69",
   "metadata": {},
   "source": [
    "# Spliting the data into Train dataset and Test dataset"
   ]
  },
  {
   "cell_type": "code",
   "execution_count": 33,
   "id": "b9c4ea1f",
   "metadata": {
    "id": "210a8fa3"
   },
   "outputs": [],
   "source": [
    "from sklearn.model_selection import train_test_split"
   ]
  },
  {
   "cell_type": "code",
   "execution_count": 34,
   "id": "1e6b71ac",
   "metadata": {
    "id": "13958587"
   },
   "outputs": [],
   "source": [
    "X_train, X_test, y_train, y_test = train_test_split(X, y, test_size = 0.2)"
   ]
  },
  {
   "cell_type": "code",
   "execution_count": 35,
   "id": "f51eaf57",
   "metadata": {
    "colab": {
     "base_uri": "https://localhost:8080/",
     "height": 206
    },
    "id": "90b88fa5",
    "outputId": "4b1c60cb-4ca6-46c9-bc92-67ef6359ee2d"
   },
   "outputs": [
    {
     "data": {
      "text/html": [
       "<div>\n",
       "<style scoped>\n",
       "    .dataframe tbody tr th:only-of-type {\n",
       "        vertical-align: middle;\n",
       "    }\n",
       "\n",
       "    .dataframe tbody tr th {\n",
       "        vertical-align: top;\n",
       "    }\n",
       "\n",
       "    .dataframe thead th {\n",
       "        text-align: right;\n",
       "    }\n",
       "</style>\n",
       "<table border=\"1\" class=\"dataframe\">\n",
       "  <thead>\n",
       "    <tr style=\"text-align: right;\">\n",
       "      <th></th>\n",
       "      <th>Age</th>\n",
       "      <th>Gender</th>\n",
       "      <th>Tenure</th>\n",
       "      <th>MonthlyCharges</th>\n",
       "    </tr>\n",
       "  </thead>\n",
       "  <tbody>\n",
       "    <tr>\n",
       "      <th>0</th>\n",
       "      <td>49</td>\n",
       "      <td>0</td>\n",
       "      <td>4</td>\n",
       "      <td>88.35</td>\n",
       "    </tr>\n",
       "    <tr>\n",
       "      <th>1</th>\n",
       "      <td>43</td>\n",
       "      <td>0</td>\n",
       "      <td>0</td>\n",
       "      <td>36.67</td>\n",
       "    </tr>\n",
       "    <tr>\n",
       "      <th>2</th>\n",
       "      <td>51</td>\n",
       "      <td>1</td>\n",
       "      <td>2</td>\n",
       "      <td>63.79</td>\n",
       "    </tr>\n",
       "    <tr>\n",
       "      <th>3</th>\n",
       "      <td>60</td>\n",
       "      <td>1</td>\n",
       "      <td>8</td>\n",
       "      <td>102.34</td>\n",
       "    </tr>\n",
       "    <tr>\n",
       "      <th>4</th>\n",
       "      <td>42</td>\n",
       "      <td>0</td>\n",
       "      <td>32</td>\n",
       "      <td>69.01</td>\n",
       "    </tr>\n",
       "  </tbody>\n",
       "</table>\n",
       "</div>"
      ],
      "text/plain": [
       "   Age  Gender  Tenure  MonthlyCharges\n",
       "0   49       0       4           88.35\n",
       "1   43       0       0           36.67\n",
       "2   51       1       2           63.79\n",
       "3   60       1       8          102.34\n",
       "4   42       0      32           69.01"
      ]
     },
     "execution_count": 35,
     "metadata": {},
     "output_type": "execute_result"
    }
   ],
   "source": [
    "X.head()"
   ]
  },
  {
   "cell_type": "code",
   "execution_count": 36,
   "id": "becbfee9",
   "metadata": {
    "id": "55c273d0"
   },
   "outputs": [],
   "source": [
    "from sklearn.preprocessing import StandardScaler"
   ]
  },
  {
   "cell_type": "code",
   "execution_count": 37,
   "id": "954de578",
   "metadata": {
    "id": "cc3e53d3"
   },
   "outputs": [],
   "source": [
    "scaler = StandardScaler()"
   ]
  },
  {
   "cell_type": "code",
   "execution_count": 38,
   "id": "d03d317e",
   "metadata": {
    "id": "d4fefee8"
   },
   "outputs": [],
   "source": [
    "X_train = scaler.fit_transform(X_train)"
   ]
  },
  {
   "cell_type": "code",
   "execution_count": 39,
   "id": "aa4f16f4",
   "metadata": {
    "id": "f680dbef"
   },
   "outputs": [],
   "source": [
    "import joblib"
   ]
  },
  {
   "cell_type": "code",
   "execution_count": 40,
   "id": "3e989ccf",
   "metadata": {
    "colab": {
     "base_uri": "https://localhost:8080/"
    },
    "id": "ea481e72",
    "outputId": "664bd8b0-2246-4452-f6e3-07ce6b9460cf"
   },
   "outputs": [
    {
     "data": {
      "text/plain": [
       "['scaler.pkl']"
      ]
     },
     "execution_count": 40,
     "metadata": {},
     "output_type": "execute_result"
    }
   ],
   "source": [
    "joblib.dump(scaler, \"scaler.pkl\")"
   ]
  },
  {
   "cell_type": "code",
   "execution_count": 41,
   "id": "8f96a9dd",
   "metadata": {
    "id": "111852c5"
   },
   "outputs": [],
   "source": [
    "X_test = scaler.fit_transform(X_test)"
   ]
  },
  {
   "cell_type": "code",
   "execution_count": 42,
   "id": "2f34ed49",
   "metadata": {
    "colab": {
     "base_uri": "https://localhost:8080/"
    },
    "id": "21553d14",
    "outputId": "37ad5613-3e47-4fe4-b0df-1cd518e6498a"
   },
   "outputs": [
    {
     "data": {
      "text/plain": [
       "array([[ 0.73808116, -1.06191317,  0.88186967, -0.42982377],\n",
       "       [ 1.54348942, -1.06191317,  0.98736436, -1.00791119],\n",
       "       [ 0.5367291 , -1.06191317,  1.09285905,  1.3524511 ],\n",
       "       ...,\n",
       "       [ 0.5367291 , -1.06191317, -0.12032988,  1.73964964],\n",
       "       [ 1.04010926,  0.94169658, -0.48956129, -0.13555288],\n",
       "       [ 0.33537703,  0.94169658, -0.85879271,  0.94279504]])"
      ]
     },
     "execution_count": 42,
     "metadata": {},
     "output_type": "execute_result"
    }
   ],
   "source": [
    "X_train"
   ]
  },
  {
   "cell_type": "code",
   "execution_count": 43,
   "id": "48b938c7",
   "metadata": {
    "colab": {
     "base_uri": "https://localhost:8080/"
    },
    "id": "d8ecdebe",
    "outputId": "a3633c96-d6a4-406d-e516-af77a836ca7e"
   },
   "outputs": [
    {
     "data": {
      "text/plain": [
       "array([[-5.09688247e-01,  8.68553950e-01, -9.03490019e-01,\n",
       "        -3.64116056e-01],\n",
       "       [ 3.31107381e-02,  8.68553950e-01,  6.07723872e-01,\n",
       "         1.64543181e+00],\n",
       "       [ 6.84469520e-01, -1.15133896e+00, -4.71714622e-01,\n",
       "        -8.04575814e-01],\n",
       "       [-1.84008856e-01, -1.15133896e+00, -6.87602320e-01,\n",
       "         3.15689377e-01],\n",
       "       [-4.01128450e-01,  8.68553950e-01,  8.23611571e-01,\n",
       "        -8.89003906e-01],\n",
       "       [-1.84008856e-01, -1.15133896e+00, -6.33630396e-01,\n",
       "        -5.74389792e-01],\n",
       "       [ 1.77006749e+00,  8.68553950e-01, -9.03490019e-01,\n",
       "        -9.84861649e-02],\n",
       "       [-7.26807841e-01,  8.68553950e-01,  2.83892324e-01,\n",
       "        -7.14054564e-02],\n",
       "       [-7.26807841e-01, -1.15133896e+00, -4.71714622e-01,\n",
       "         5.49061365e-01],\n",
       "       [ 4.67349926e-01,  8.68553950e-01, -7.95546170e-01,\n",
       "         6.59375427e-01],\n",
       "       [ 3.58790129e-01,  8.68553950e-01, -9.39111489e-02,\n",
       "         9.97486038e-01],\n",
       "       [-1.37816662e+00, -1.15133896e+00,  1.41730274e+00,\n",
       "        -9.08916191e-01],\n",
       "       [ 1.66150769e+00,  8.68553950e-01, -5.25686546e-01,\n",
       "         8.31815821e-01],\n",
       "       [-1.70384601e+00,  8.68553950e-01, -7.95546170e-01,\n",
       "         5.00077142e-01],\n",
       "       [ 3.31107381e-02,  8.68553950e-01, -3.09798848e-01,\n",
       "         1.77048097e+00],\n",
       "       [-8.35367637e-01, -1.15133896e+00,  4.45808098e-01,\n",
       "        -7.95017917e-01],\n",
       "       [ 9.01589114e-01,  8.68553950e-01, -9.57461944e-01,\n",
       "         1.15439485e+00],\n",
       "       [-6.18248044e-01,  8.68553950e-01, -9.57461944e-01,\n",
       "         3.28433240e-01],\n",
       "       [-7.54490589e-02,  8.68553950e-01, -7.41574245e-01,\n",
       "         1.87641433e+00],\n",
       "       [-2.92568653e-01, -1.15133896e+00,  7.69639646e-01,\n",
       "        -1.45877405e-01],\n",
       "       [-1.81240581e+00, -1.15133896e+00, -3.63770772e-01,\n",
       "         6.55392970e-01],\n",
       "       [ 1.22726850e+00,  8.68553950e-01, -2.01854998e-01,\n",
       "        -5.96293306e-01],\n",
       "       [ 6.84469520e-01, -1.15133896e+00,  1.21976550e-01,\n",
       "        -1.65323743e+00],\n",
       "       [ 7.93029317e-01, -1.15133896e+00,  2.38879739e+00,\n",
       "         5.37113993e-01],\n",
       "       [ 1.41670535e-01, -1.15133896e+00, -6.33630396e-01,\n",
       "        -1.39636894e+00],\n",
       "       [ 2.42142627e+00, -1.15133896e+00, -6.87602320e-01,\n",
       "        -1.18569696e+00],\n",
       "       [-1.16104703e+00,  8.68553950e-01, -3.99392243e-02,\n",
       "         1.66454761e+00],\n",
       "       [ 3.31107381e-02,  8.68553950e-01,  1.41730274e+00,\n",
       "        -4.73235381e-01],\n",
       "       [ 4.67349926e-01, -1.15133896e+00, -6.33630396e-01,\n",
       "         1.25116856e+00],\n",
       "       [-1.84008856e-01,  8.68553950e-01,  1.84907814e+00,\n",
       "        -8.38028454e-01],\n",
       "       [ 1.01014891e+00, -1.15133896e+00, -7.95546170e-01,\n",
       "        -2.25526547e-01],\n",
       "       [ 1.01014891e+00, -1.15133896e+00, -9.57461944e-01,\n",
       "        -7.63954752e-01],\n",
       "       [ 6.84469520e-01, -1.15133896e+00,  3.03646048e+00,\n",
       "         7.32254393e-01],\n",
       "       [ 3.31107381e-02, -1.15133896e+00, -2.55826923e-01,\n",
       "         1.14125274e+00],\n",
       "       [ 3.58790129e-01,  8.68553950e-01,  2.06496584e+00,\n",
       "        -9.15965140e-04],\n",
       "       [ 1.44438810e+00, -1.15133896e+00,  2.29920399e-01,\n",
       "        -1.28167418e+00],\n",
       "       [-4.01128450e-01, -1.15133896e+00, -2.55826923e-01,\n",
       "        -2.74112524e-01],\n",
       "       [-1.59528622e+00,  8.68553950e-01,  6.61695796e-01,\n",
       "        -2.16247422e-02],\n",
       "       [ 1.41670535e-01,  8.68553950e-01, -4.71714622e-01,\n",
       "         9.88724632e-01],\n",
       "       [-7.54490589e-02,  8.68553950e-01, -6.33630396e-01,\n",
       "        -1.51783389e+00],\n",
       "       [-1.84008856e-01, -1.15133896e+00,  2.60468508e+00,\n",
       "        -4.62482747e-01],\n",
       "       [ 6.84469520e-01,  8.68553950e-01, -8.49518094e-01,\n",
       "         1.74459500e+00],\n",
       "       [-2.02952540e+00,  8.68553950e-01, -3.09798848e-01,\n",
       "        -3.17521307e-01],\n",
       "       [ 2.50230332e-01,  8.68553950e-01,  2.28085354e+00,\n",
       "        -6.54835426e-01],\n",
       "       [ 6.84469520e-01,  8.68553950e-01, -6.87602320e-01,\n",
       "        -3.56947633e-01],\n",
       "       [-7.26807841e-01,  8.68553950e-01,  5.62711287e+00,\n",
       "        -1.23177399e-01],\n",
       "       [-1.92096561e+00,  8.68553950e-01,  1.21976550e-01,\n",
       "        -4.07524838e-01],\n",
       "       [ 4.67349926e-01,  8.68553950e-01,  2.11893776e+00,\n",
       "        -7.06607369e-01],\n",
       "       [ 1.41670535e-01, -1.15133896e+00, -5.25686546e-01,\n",
       "        -2.91237090e-01],\n",
       "       [ 7.93029317e-01,  8.68553950e-01, -6.33630396e-01,\n",
       "        -5.48503821e-01],\n",
       "       [-4.01128450e-01, -1.15133896e+00,  6.07723872e-01,\n",
       "         1.20019311e+00],\n",
       "       [-1.59528622e+00,  8.68553950e-01, -8.49518094e-01,\n",
       "         6.72119290e-01],\n",
       "       [-1.70384601e+00, -1.15133896e+00, -2.55826923e-01,\n",
       "        -1.11003028e+00],\n",
       "       [ 1.22726850e+00,  8.68553950e-01, -9.39111489e-02,\n",
       "         8.62480741e-01],\n",
       "       [-1.05248723e+00, -1.15133896e+00,  3.91836173e-01,\n",
       "        -1.51026722e+00],\n",
       "       [ 9.01589114e-01,  8.68553950e-01, -5.25686546e-01,\n",
       "        -1.23946013e+00],\n",
       "       [ 3.31107381e-02,  8.68553950e-01, -5.25686546e-01,\n",
       "         2.96175337e-01],\n",
       "       [ 7.93029317e-01, -1.15133896e+00, -4.71714622e-01,\n",
       "        -5.78372249e-01],\n",
       "       [ 1.55294790e+00, -1.15133896e+00, -9.03490019e-01,\n",
       "         3.53243948e-02],\n",
       "       [ 3.58790129e-01,  8.68553950e-01, -8.49518094e-01,\n",
       "        -5.36158204e-01],\n",
       "       [ 1.98718708e+00, -1.15133896e+00, -6.33630396e-01,\n",
       "         7.11147370e-01],\n",
       "       [-6.18248044e-01, -1.15133896e+00, -8.49518094e-01,\n",
       "         6.67858061e-02],\n",
       "       [-7.26807841e-01,  8.68553950e-01,  7.69639646e-01,\n",
       "        -1.07060395e+00],\n",
       "       [ 6.84469520e-01,  8.68553950e-01, -3.09798848e-01,\n",
       "         1.28115646e-01],\n",
       "       [-2.92568653e-01, -1.15133896e+00, -3.09798848e-01,\n",
       "         2.80245508e-01],\n",
       "       [-5.09688247e-01,  8.68553950e-01,  1.03949927e+00,\n",
       "        -1.17295310e+00],\n",
       "       [ 4.67349926e-01, -1.15133896e+00,  1.57921852e+00,\n",
       "         2.28871811e-01],\n",
       "       [ 6.84469520e-01,  8.68553950e-01,  4.45808098e-01,\n",
       "        -5.39742415e-01],\n",
       "       [ 6.84469520e-01, -1.15133896e+00, -8.49518094e-01,\n",
       "        -2.56191467e-01],\n",
       "       [ 1.41670535e-01,  8.68553950e-01,  6.80046251e-02,\n",
       "         3.68257811e-01],\n",
       "       [-6.18248044e-01, -1.15133896e+00,  2.29920399e-01,\n",
       "         7.36635096e-01],\n",
       "       [ 1.33582830e+00,  8.68553950e-01,  1.20141504e+00,\n",
       "         1.22050364e+00],\n",
       "       [ 1.66150769e+00, -1.15133896e+00,  3.37864248e-01,\n",
       "        -9.30023214e-01],\n",
       "       [ 3.58790129e-01,  8.68553950e-01, -2.55826923e-01,\n",
       "        -3.37433593e-01],\n",
       "       [-7.54490589e-02, -1.15133896e+00, -7.95546170e-01,\n",
       "        -4.53721341e-01],\n",
       "       [ 4.67349926e-01, -1.15133896e+00, -6.87602320e-01,\n",
       "         1.76211781e+00],\n",
       "       [ 1.44438810e+00, -1.15133896e+00, -5.79658471e-01,\n",
       "         1.00107025e+00],\n",
       "       [-5.09688247e-01,  8.68553950e-01, -6.87602320e-01,\n",
       "        -1.28247067e+00],\n",
       "       [ 6.84469520e-01, -1.15133896e+00, -6.87602320e-01,\n",
       "         7.15926319e-01],\n",
       "       [-1.37816662e+00,  8.68553950e-01, -7.41574245e-01,\n",
       "        -1.49553213e+00],\n",
       "       [-9.43927434e-01,  8.68553950e-01,  7.15667721e-01,\n",
       "         2.21305143e-01],\n",
       "       [ 7.93029317e-01,  8.68553950e-01,  1.03949927e+00,\n",
       "        -2.60572170e-01],\n",
       "       [ 9.01589114e-01, -1.15133896e+00, -9.39111489e-02,\n",
       "         3.35601663e-01],\n",
       "       [ 3.58790129e-01,  8.68553950e-01, -3.99392243e-02,\n",
       "         1.39374052e+00],\n",
       "       [-1.05248723e+00,  8.68553950e-01, -1.47883074e-01,\n",
       "         5.71761370e-01],\n",
       "       [-1.26960683e+00, -1.15133896e+00,  6.61695796e-01,\n",
       "        -7.12979300e-01],\n",
       "       [-6.18248044e-01,  8.68553950e-01,  4.45808098e-01,\n",
       "         1.62113882e+00],\n",
       "       [-8.35367637e-01, -1.15133896e+00, -8.49518094e-01,\n",
       "        -1.35893385e+00],\n",
       "       [-2.02952540e+00, -1.15133896e+00, -9.57461944e-01,\n",
       "         1.72189499e+00],\n",
       "       [ 1.41670535e-01, -1.15133896e+00,  6.07723872e-01,\n",
       "         1.69521253e+00],\n",
       "       [ 3.31107381e-02, -1.15133896e+00, -9.39111489e-02,\n",
       "        -7.93026689e-01],\n",
       "       [-8.35367637e-01,  8.68553950e-01,  2.22688161e+00,\n",
       "         1.12584063e-01],\n",
       "       [-7.54490589e-02, -1.15133896e+00, -1.47883074e-01,\n",
       "        -3.45000261e-01],\n",
       "       [-2.92568653e-01,  8.68553950e-01, -5.25686546e-01,\n",
       "        -1.14587239e+00],\n",
       "       [ 5.75909723e-01,  8.68553950e-01,  5.53751947e-01,\n",
       "         1.64742304e+00],\n",
       "       [-1.48672642e+00,  8.68553950e-01,  5.53751947e-01,\n",
       "        -5.70805581e-01],\n",
       "       [ 1.33582830e+00,  8.68553950e-01, -6.33630396e-01,\n",
       "         1.75335640e+00],\n",
       "       [-8.35367637e-01, -1.15133896e+00, -5.79658471e-01,\n",
       "         4.30384142e-01],\n",
       "       [-1.92096561e+00, -1.15133896e+00, -5.79658471e-01,\n",
       "         1.62910374e+00],\n",
       "       [ 1.11870871e+00,  8.68553950e-01, -5.25686546e-01,\n",
       "        -1.13870397e+00],\n",
       "       [-1.16104703e+00,  8.68553950e-01, -5.79658471e-01,\n",
       "         1.39891772e+00],\n",
       "       [ 9.01589114e-01, -1.15133896e+00,  2.49674124e+00,\n",
       "         8.36196524e-01],\n",
       "       [ 7.93029317e-01,  8.68553950e-01, -1.47883074e-01,\n",
       "        -1.17454608e+00],\n",
       "       [-1.59528622e+00, -1.15133896e+00, -4.71714622e-01,\n",
       "         1.79079150e+00],\n",
       "       [-1.05248723e+00,  8.68553950e-01,  1.03949927e+00,\n",
       "        -1.39597070e+00],\n",
       "       [ 1.41670535e-01, -1.15133896e+00, -6.33630396e-01,\n",
       "         8.99119347e-01],\n",
       "       [-7.54490589e-02,  8.68553950e-01,  3.91836173e-01,\n",
       "        -2.90440599e-01],\n",
       "       [-9.43927434e-01, -1.15133896e+00,  2.06496584e+00,\n",
       "         1.64941427e+00],\n",
       "       [ 2.52998607e+00,  8.68553950e-01, -9.57461944e-01,\n",
       "        -1.39437772e+00],\n",
       "       [ 1.55294790e+00,  8.68553950e-01, -6.87602320e-01,\n",
       "         1.83870046e-01],\n",
       "       [ 7.93029317e-01, -1.15133896e+00, -9.57461944e-01,\n",
       "        -1.24782329e+00],\n",
       "       [ 1.55294790e+00, -1.15133896e+00,  6.80046251e-02,\n",
       "         1.77486167e+00],\n",
       "       [ 3.31107381e-02,  8.68553950e-01, -5.79658471e-01,\n",
       "        -5.81558215e-01],\n",
       "       [ 2.50230332e-01,  8.68553950e-01, -7.95546170e-01,\n",
       "         2.06968297e-01],\n",
       "       [-2.68088419e+00, -1.15133896e+00, -4.71714622e-01,\n",
       "         2.05773560e-01],\n",
       "       [ 3.31107381e-02,  8.68553950e-01,  2.83892324e-01,\n",
       "        -7.50812643e-01],\n",
       "       [-1.16104703e+00,  8.68553950e-01, -2.55826923e-01,\n",
       "         8.40975473e-01],\n",
       "       [-6.18248044e-01,  8.68553950e-01,  3.37864248e-01,\n",
       "        -9.55510940e-01],\n",
       "       [-1.48672642e+00, -1.15133896e+00, -7.41574245e-01,\n",
       "        -1.24941628e+00],\n",
       "       [ 3.58790129e-01,  8.68553950e-01,  8.77583495e-01,\n",
       "         1.71074411e+00],\n",
       "       [-1.84008856e-01,  8.68553950e-01, -3.63770772e-01,\n",
       "        -8.37231963e-01],\n",
       "       [ 3.31107381e-02, -1.15133896e+00, -2.01854998e-01,\n",
       "        -2.18358125e-01],\n",
       "       [-7.54490589e-02,  8.68553950e-01,  1.40327004e-02,\n",
       "         7.46989484e-01],\n",
       "       [ 2.50230332e-01,  8.68553950e-01,  2.29920399e-01,\n",
       "         9.82352701e-01],\n",
       "       [ 1.41670535e-01,  8.68553950e-01,  4.45808098e-01,\n",
       "        -1.67673393e+00],\n",
       "       [ 2.50230332e-01,  8.68553950e-01, -7.41574245e-01,\n",
       "        -4.28233615e-01],\n",
       "       [ 3.31107381e-02, -1.15133896e+00, -6.87602320e-01,\n",
       "         1.48892125e+00],\n",
       "       [-1.05248723e+00, -1.15133896e+00, -4.17742697e-01,\n",
       "        -5.15449427e-01],\n",
       "       [ 7.93029317e-01, -1.15133896e+00,  1.25538697e+00,\n",
       "         3.52726228e-01],\n",
       "       [ 4.67349926e-01,  8.68553950e-01, -2.55826923e-01,\n",
       "        -4.87572227e-01],\n",
       "       [-6.18248044e-01,  8.68553950e-01, -7.95546170e-01,\n",
       "        -5.00714335e-01],\n",
       "       [-4.01128450e-01,  8.68553950e-01,  6.80046251e-02,\n",
       "         6.00036816e-01],\n",
       "       [ 1.41670535e-01,  8.68553950e-01, -6.33630396e-01,\n",
       "         2.94184108e-01],\n",
       "       [-1.59528622e+00,  8.68553950e-01, -9.03490019e-01,\n",
       "        -1.15212485e-01],\n",
       "       [ 1.98718708e+00, -1.15133896e+00, -9.57461944e-01,\n",
       "        -3.11547621e-01],\n",
       "       [-4.01128450e-01,  8.68553950e-01, -6.33630396e-01,\n",
       "        -3.21105519e-01],\n",
       "       [-1.26960683e+00,  8.68553950e-01, -9.03490019e-01,\n",
       "        -1.47800932e+00],\n",
       "       [-8.35367637e-01,  8.68553950e-01, -4.17742697e-01,\n",
       "        -1.52141810e+00],\n",
       "       [ 1.44438810e+00, -1.15133896e+00, -7.41574245e-01,\n",
       "        -8.01668621e-02],\n",
       "       [-8.35367637e-01,  8.68553950e-01, -6.33630396e-01,\n",
       "        -1.28752839e-01],\n",
       "       [-2.13808520e+00,  8.68553950e-01, -5.25686546e-01,\n",
       "        -3.55633422e-02],\n",
       "       [ 4.67349926e-01,  8.68553950e-01, -3.99392243e-02,\n",
       "         9.78370244e-01],\n",
       "       [ 9.01589114e-01, -1.15133896e+00,  1.03949927e+00,\n",
       "         4.34366599e-01],\n",
       "       [-6.18248044e-01,  8.68553950e-01, -5.79658471e-01,\n",
       "        -1.57876548e+00],\n",
       "       [ 3.58790129e-01, -1.15133896e+00,  6.07723872e-01,\n",
       "        -1.66239708e+00],\n",
       "       [ 3.31107381e-02, -1.15133896e+00, -2.55826923e-01,\n",
       "        -9.96132002e-01],\n",
       "       [ 1.87862729e+00,  8.68553950e-01,  4.45808098e-01,\n",
       "         8.43364947e-01],\n",
       "       [ 3.31107381e-02,  8.68553950e-01, -9.57461944e-01,\n",
       "        -7.72716157e-01],\n",
       "       [ 1.11870871e+00,  8.68553950e-01, -4.17742697e-01,\n",
       "        -3.64116056e-01],\n",
       "       [-1.92096561e+00, -1.15133896e+00,  2.11893776e+00,\n",
       "        -8.15328449e-01],\n",
       "       [ 2.50230332e-01,  8.68553950e-01, -8.49518094e-01,\n",
       "         1.55662302e+00],\n",
       "       [-9.43927434e-01, -1.15133896e+00, -3.63770772e-01,\n",
       "        -1.58314618e+00],\n",
       "       [-9.43927434e-01,  8.68553950e-01,  2.83892324e-01,\n",
       "         1.42121948e+00],\n",
       "       [ 4.67349926e-01, -1.15133896e+00, -7.41574245e-01,\n",
       "         6.24329805e-01],\n",
       "       [ 1.11870871e+00,  8.68553950e-01, -9.03490019e-01,\n",
       "         3.20070080e-01],\n",
       "       [-7.26807841e-01,  8.68553950e-01, -2.55826923e-01,\n",
       "        -3.33849381e-01],\n",
       "       [ 1.41670535e-01,  8.68553950e-01, -5.79658471e-01,\n",
       "         1.31170191e+00],\n",
       "       [-7.26807841e-01, -1.15133896e+00,  1.47127467e+00,\n",
       "        -1.32866717e+00],\n",
       "       [-6.18248044e-01,  8.68553950e-01, -6.87602320e-01,\n",
       "         7.80840370e-01],\n",
       "       [-1.05248723e+00, -1.15133896e+00, -7.95546170e-01,\n",
       "        -1.50031108e+00],\n",
       "       [-5.09688247e-01,  8.68553950e-01, -6.33630396e-01,\n",
       "         4.93306965e-01],\n",
       "       [-8.35367637e-01,  8.68553950e-01,  3.46823588e+00,\n",
       "         1.01301762e+00],\n",
       "       [ 9.01589114e-01,  8.68553950e-01, -3.63770772e-01,\n",
       "         4.39942039e-01],\n",
       "       [-2.92568653e-01, -1.15133896e+00,  7.15667721e-01,\n",
       "        -6.01072255e-01],\n",
       "       [ 1.66150769e+00,  8.68553950e-01,  9.31555420e-01,\n",
       "         1.85132485e+00],\n",
       "       [-7.54490589e-02,  8.68553950e-01, -3.63770772e-01,\n",
       "         1.31448963e+00],\n",
       "       [-1.84008856e-01,  8.68553950e-01, -6.33630396e-01,\n",
       "         9.48900061e-01],\n",
       "       [ 1.33582830e+00, -1.15133896e+00, -2.01854998e-01,\n",
       "        -1.59150934e+00],\n",
       "       [-9.43927434e-01, -1.15133896e+00, -2.01854998e-01,\n",
       "        -1.03038113e+00],\n",
       "       [ 2.31286647e+00, -1.15133896e+00, -8.49518094e-01,\n",
       "         3.25366748e-02],\n",
       "       [ 3.31107381e-02,  8.68553950e-01,  1.75948474e-01,\n",
       "         1.19820188e+00],\n",
       "       [ 2.09574688e+00,  8.68553950e-01, -3.09798848e-01,\n",
       "        -1.03754956e+00],\n",
       "       [-1.26960683e+00, -1.15133896e+00, -7.41574245e-01,\n",
       "         9.32571987e-01],\n",
       "       [-6.18248044e-01, -1.15133896e+00, -6.87602320e-01,\n",
       "        -1.69943393e+00],\n",
       "       [-7.54490589e-02,  8.68553950e-01, -7.41574245e-01,\n",
       "        -1.28685137e+00],\n",
       "       [-7.54490589e-02,  8.68553950e-01,  3.37864248e-01,\n",
       "        -2.21544090e-01],\n",
       "       [-1.37816662e+00,  8.68553950e-01,  5.53751947e-01,\n",
       "        -9.40775848e-01],\n",
       "       [-7.26807841e-01,  8.68553950e-01, -9.03490019e-01,\n",
       "         4.26401685e-01],\n",
       "       [ 4.67349926e-01,  8.68553950e-01,  1.74113429e+00,\n",
       "        -1.21715837e+00],\n",
       "       [ 5.75909723e-01, -1.15133896e+00, -9.57461944e-01,\n",
       "        -9.15686368e-01],\n",
       "       [ 7.93029317e-01,  8.68553950e-01, -9.03490019e-01,\n",
       "         1.56697741e+00],\n",
       "       [-5.09688247e-01,  8.68553950e-01, -4.17742697e-01,\n",
       "        -5.62721193e-02],\n",
       "       [ 1.01014891e+00,  8.68553950e-01, -4.17742697e-01,\n",
       "         3.73156233e-02],\n",
       "       [ 3.58790129e-01, -1.15133896e+00, -7.95546170e-01,\n",
       "        -1.23308820e+00],\n",
       "       [-9.43927434e-01, -1.15133896e+00, -3.09798848e-01,\n",
       "         3.90957817e-01],\n",
       "       [ 3.31107381e-02, -1.15133896e+00, -8.49518094e-01,\n",
       "         1.30851594e+00],\n",
       "       [ 2.50230332e-01, -1.15133896e+00, -8.49518094e-01,\n",
       "        -3.74868690e-01],\n",
       "       [ 1.11870871e+00, -1.15133896e+00,  1.25538697e+00,\n",
       "        -4.77217838e-01],\n",
       "       [-8.35367637e-01, -1.15133896e+00,  5.53751947e-01,\n",
       "        -1.58234969e+00],\n",
       "       [-6.18248044e-01, -1.15133896e+00, -6.87602320e-01,\n",
       "        -3.91993256e-01],\n",
       "       [ 6.84469520e-01,  8.68553950e-01,  1.41730274e+00,\n",
       "        -1.47561984e+00],\n",
       "       [-1.16104703e+00,  8.68553950e-01, -8.49518094e-01,\n",
       "         5.12542233e-02],\n",
       "       [-9.43927434e-01, -1.15133896e+00, -3.63770772e-01,\n",
       "         6.79685959e-01],\n",
       "       [-9.43927434e-01, -1.15133896e+00,  2.49674124e+00,\n",
       "         1.82583712e+00],\n",
       "       [ 1.55294790e+00, -1.15133896e+00, -4.71714622e-01,\n",
       "         7.51768433e-01],\n",
       "       [-7.54490589e-02,  8.68553950e-01,  2.49674124e+00,\n",
       "         3.68257811e-01],\n",
       "       [ 1.77006749e+00,  8.68553950e-01, -3.99392243e-02,\n",
       "        -1.12516361e+00],\n",
       "       [ 2.50230332e-01,  8.68553950e-01, -3.99392243e-02,\n",
       "         1.34515455e+00],\n",
       "       [ 1.22726850e+00,  8.68553950e-01, -3.09798848e-01,\n",
       "         1.09545448e+00],\n",
       "       [ 3.58790129e-01, -1.15133896e+00,  6.07723872e-01,\n",
       "        -1.59031461e+00]])"
      ]
     },
     "execution_count": 43,
     "metadata": {},
     "output_type": "execute_result"
    }
   ],
   "source": [
    "X_test"
   ]
  },
  {
   "cell_type": "markdown",
   "id": "85615927",
   "metadata": {
    "id": "28360dc7"
   },
   "source": [
    "# Machine Learning"
   ]
  },
  {
   "cell_type": "code",
   "execution_count": 44,
   "id": "7a5ffca2",
   "metadata": {
    "id": "b538f546"
   },
   "outputs": [],
   "source": [
    "from sklearn.metrics import accuracy_score"
   ]
  },
  {
   "cell_type": "code",
   "execution_count": 45,
   "id": "3da851bc",
   "metadata": {
    "id": "ac9de26d"
   },
   "outputs": [],
   "source": [
    "# Funtion to calculate accuracy score\n",
    "\n",
    "def model_performance(predications):\n",
    "    print(\"Accuracy score on model is {}\".format(accuracy_score(y_test, predications)))"
   ]
  },
  {
   "cell_type": "raw",
   "id": "b1a4e2c7",
   "metadata": {},
   "source": [
    "def model_performance(predications):\n",
    "    score = accuracy_score(y_test, predications)  # Replace `y_true` with your actual test labels\n",
    "#     print(f\"Accuracy score on model is {score}\")  # Keeps the print statement for logs\n",
    "    return score  # Return the score"
   ]
  },
  {
   "cell_type": "code",
   "execution_count": 46,
   "id": "1dd4457a",
   "metadata": {
    "id": "9b0f6d0a"
   },
   "outputs": [],
   "source": [
    "from sklearn.model_selection import GridSearchCV"
   ]
  },
  {
   "cell_type": "markdown",
   "id": "b34c5b69",
   "metadata": {
    "id": "f6ba9470"
   },
   "source": [
    "# Logistic Regression"
   ]
  },
  {
   "cell_type": "code",
   "execution_count": 47,
   "id": "1f6dfca0",
   "metadata": {
    "id": "8e248b68"
   },
   "outputs": [],
   "source": [
    "from sklearn.linear_model import LogisticRegression"
   ]
  },
  {
   "cell_type": "code",
   "execution_count": 48,
   "id": "0612d12d",
   "metadata": {
    "id": "3609acbe"
   },
   "outputs": [],
   "source": [
    "logistic_regression_model = LogisticRegression()"
   ]
  },
  {
   "cell_type": "code",
   "execution_count": 49,
   "id": "e22a5dcb",
   "metadata": {
    "colab": {
     "base_uri": "https://localhost:8080/",
     "height": 80
    },
    "id": "b004fc1a",
    "outputId": "5de98cbc-51d2-422e-a1d4-75eac4467dcb"
   },
   "outputs": [
    {
     "data": {
      "text/plain": [
       "LogisticRegression()"
      ]
     },
     "execution_count": 49,
     "metadata": {},
     "output_type": "execute_result"
    }
   ],
   "source": [
    "logistic_regression_model.fit(X_train, y_train)"
   ]
  },
  {
   "cell_type": "code",
   "execution_count": 50,
   "id": "9008e670",
   "metadata": {
    "id": "139a2adc"
   },
   "outputs": [],
   "source": [
    "y_prediction = logistic_regression_model.predict(X_test)"
   ]
  },
  {
   "cell_type": "code",
   "execution_count": 51,
   "id": "6062a93a",
   "metadata": {
    "colab": {
     "base_uri": "https://localhost:8080/"
    },
    "id": "9f719678",
    "outputId": "afb2280b-90ee-4c06-cb22-ef2c9854a49e"
   },
   "outputs": [
    {
     "name": "stdout",
     "output_type": "stream",
     "text": [
      "Accuracy score on model is 0.9\n"
     ]
    }
   ],
   "source": [
    "model_performance(y_prediction)"
   ]
  },
  {
   "cell_type": "markdown",
   "id": "00ad9e02",
   "metadata": {
    "id": "69c34db8"
   },
   "source": [
    "# KNeighbors Classification"
   ]
  },
  {
   "cell_type": "code",
   "execution_count": 52,
   "id": "786d36c0",
   "metadata": {
    "id": "b2943489"
   },
   "outputs": [],
   "source": [
    "from sklearn.neighbors import KNeighborsClassifier"
   ]
  },
  {
   "cell_type": "code",
   "execution_count": 53,
   "id": "e1fcc46a",
   "metadata": {
    "id": "d8b74aa4"
   },
   "outputs": [],
   "source": [
    "kneighbors_classifier_model = KNeighborsClassifier()"
   ]
  },
  {
   "cell_type": "code",
   "execution_count": 54,
   "id": "ac582353",
   "metadata": {
    "id": "f734e47e"
   },
   "outputs": [],
   "source": [
    "parameter_grid = {\n",
    "    \"n_neighbors\" : [3, 5, 7, 9],\n",
    "    \"weights\" : [\"uniform\", \"distance\"],\n",
    "}"
   ]
  },
  {
   "cell_type": "code",
   "execution_count": 55,
   "id": "229d20a4",
   "metadata": {
    "id": "dd3bab27"
   },
   "outputs": [],
   "source": [
    "grid_kneighbors = GridSearchCV(estimator = kneighbors_classifier_model, param_grid = parameter_grid, cv = 5)"
   ]
  },
  {
   "cell_type": "code",
   "execution_count": 56,
   "id": "a3899530",
   "metadata": {
    "colab": {
     "base_uri": "https://localhost:8080/",
     "height": 134
    },
    "id": "9e75eced",
    "outputId": "2eab2e0a-c19f-451e-dd57-6abb39decf43"
   },
   "outputs": [
    {
     "data": {
      "text/plain": [
       "GridSearchCV(cv=5, estimator=KNeighborsClassifier(),\n",
       "             param_grid={'n_neighbors': [3, 5, 7, 9],\n",
       "                         'weights': ['uniform', 'distance']})"
      ]
     },
     "execution_count": 56,
     "metadata": {},
     "output_type": "execute_result"
    }
   ],
   "source": [
    "grid_kneighbors.fit(X_train, y_train)"
   ]
  },
  {
   "cell_type": "code",
   "execution_count": 57,
   "id": "276e5706",
   "metadata": {
    "colab": {
     "base_uri": "https://localhost:8080/"
    },
    "id": "817ae14e",
    "outputId": "0c0876ff-21cc-4e63-e903-4346535aeedc"
   },
   "outputs": [
    {
     "data": {
      "text/plain": [
       "{'n_neighbors': 7, 'weights': 'distance'}"
      ]
     },
     "execution_count": 57,
     "metadata": {},
     "output_type": "execute_result"
    }
   ],
   "source": [
    "grid_kneighbors.best_params_"
   ]
  },
  {
   "cell_type": "code",
   "execution_count": 58,
   "id": "9f8177c8",
   "metadata": {
    "id": "c0c71d08"
   },
   "outputs": [],
   "source": [
    "y_prediction = grid_kneighbors.predict(X_test)"
   ]
  },
  {
   "cell_type": "code",
   "execution_count": 59,
   "id": "81fdea67",
   "metadata": {
    "colab": {
     "base_uri": "https://localhost:8080/"
    },
    "id": "d7127a0f",
    "outputId": "3b29e799-1d5f-48e7-dff7-d4ca281dc6c0"
   },
   "outputs": [
    {
     "name": "stdout",
     "output_type": "stream",
     "text": [
      "Accuracy score on model is 0.905\n"
     ]
    }
   ],
   "source": [
    "model_performance(y_prediction)"
   ]
  },
  {
   "cell_type": "markdown",
   "id": "b15e08b6",
   "metadata": {
    "id": "c3888382"
   },
   "source": [
    "# Support Vector Classifier (SVC)"
   ]
  },
  {
   "cell_type": "code",
   "execution_count": 60,
   "id": "74149bdc",
   "metadata": {
    "id": "ff2d74c5"
   },
   "outputs": [],
   "source": [
    "from sklearn.svm import SVC"
   ]
  },
  {
   "cell_type": "code",
   "execution_count": 61,
   "id": "0d7285f4",
   "metadata": {
    "id": "b1d22dc8"
   },
   "outputs": [],
   "source": [
    "svc_model = SVC()"
   ]
  },
  {
   "cell_type": "code",
   "execution_count": 62,
   "id": "594102cf",
   "metadata": {
    "id": "ca02a6fc"
   },
   "outputs": [],
   "source": [
    "parameter_grid = {\n",
    "    \"C\" : [0.01, 0.1, 0.5, 1],\n",
    "    \"kernel\" : [\"liner\", \"rbf\", \"poly\"]\n",
    "}"
   ]
  },
  {
   "cell_type": "code",
   "execution_count": 63,
   "id": "fecf316f",
   "metadata": {
    "id": "d276c727"
   },
   "outputs": [],
   "source": [
    "grid_svc = GridSearchCV(estimator = svc_model, param_grid = parameter_grid, cv = 5)"
   ]
  },
  {
   "cell_type": "code",
   "execution_count": 64,
   "id": "e93004f7",
   "metadata": {
    "colab": {
     "base_uri": "https://localhost:8080/",
     "height": 134
    },
    "id": "77e2ac8f",
    "outputId": "986fc086-0722-4545-e952-915a681d9b82"
   },
   "outputs": [
    {
     "data": {
      "text/plain": [
       "GridSearchCV(cv=5, estimator=SVC(),\n",
       "             param_grid={'C': [0.01, 0.1, 0.5, 1],\n",
       "                         'kernel': ['liner', 'rbf', 'poly']})"
      ]
     },
     "execution_count": 64,
     "metadata": {},
     "output_type": "execute_result"
    }
   ],
   "source": [
    "grid_svc.fit(X_train, y_train)"
   ]
  },
  {
   "cell_type": "code",
   "execution_count": 65,
   "id": "534eadaa",
   "metadata": {
    "colab": {
     "base_uri": "https://localhost:8080/"
    },
    "id": "00b8a09f",
    "outputId": "fdebe92e-93e9-4d6a-8d19-16ac2c24ce41"
   },
   "outputs": [
    {
     "data": {
      "text/plain": [
       "{'C': 0.01, 'kernel': 'rbf'}"
      ]
     },
     "execution_count": 65,
     "metadata": {},
     "output_type": "execute_result"
    }
   ],
   "source": [
    "grid_svc.best_params_"
   ]
  },
  {
   "cell_type": "code",
   "execution_count": 66,
   "id": "d5ea8f03",
   "metadata": {
    "id": "382d5015"
   },
   "outputs": [],
   "source": [
    "y_prediction = grid_svc.predict(X_test)"
   ]
  },
  {
   "cell_type": "code",
   "execution_count": 67,
   "id": "76304c0e",
   "metadata": {
    "colab": {
     "base_uri": "https://localhost:8080/"
    },
    "id": "d4d9e31e",
    "outputId": "15315313-8b63-4849-d1df-2e7a33558ad0"
   },
   "outputs": [
    {
     "name": "stdout",
     "output_type": "stream",
     "text": [
      "Accuracy score on model is 0.905\n"
     ]
    }
   ],
   "source": [
    "model_performance(y_prediction)"
   ]
  },
  {
   "cell_type": "markdown",
   "id": "da8c3a5f",
   "metadata": {
    "id": "2d8ec4c9"
   },
   "source": [
    "# Decision Tree Classifier"
   ]
  },
  {
   "cell_type": "code",
   "execution_count": 68,
   "id": "c3392d5b",
   "metadata": {
    "id": "d2c8f69d"
   },
   "outputs": [],
   "source": [
    "from sklearn.tree import DecisionTreeClassifier"
   ]
  },
  {
   "cell_type": "code",
   "execution_count": 69,
   "id": "714e0eca",
   "metadata": {
    "id": "eaaf4621"
   },
   "outputs": [],
   "source": [
    "decision_tree_classifier = DecisionTreeClassifier()"
   ]
  },
  {
   "cell_type": "code",
   "execution_count": 70,
   "id": "0d0b0505",
   "metadata": {
    "id": "739f209d"
   },
   "outputs": [],
   "source": [
    "parameter_grid = {\n",
    "    \"criterion\" : [\"gini\", \"entropy\"],\n",
    "    \"splitter\" : [\"best\", \"random\"],\n",
    "    \"max_depth\" : [None, 10, 20, 30],\n",
    "    \"min_samples_split\" : [2, 5, 10],\n",
    "    \"min_samples_leaf\" : [1, 2, 4]\n",
    "}"
   ]
  },
  {
   "cell_type": "code",
   "execution_count": 71,
   "id": "c7d90bac",
   "metadata": {
    "id": "f018a1c9"
   },
   "outputs": [],
   "source": [
    "grid_decision_tree = GridSearchCV(estimator = decision_tree_classifier, param_grid = parameter_grid, cv = 5)"
   ]
  },
  {
   "cell_type": "code",
   "execution_count": 72,
   "id": "8f506d6e",
   "metadata": {
    "colab": {
     "base_uri": "https://localhost:8080/",
     "height": 134
    },
    "id": "305fcaa7",
    "outputId": "76dd0a28-7ecd-40d4-cd04-6aa61ab1b057"
   },
   "outputs": [
    {
     "data": {
      "text/plain": [
       "GridSearchCV(cv=5, estimator=DecisionTreeClassifier(),\n",
       "             param_grid={'criterion': ['gini', 'entropy'],\n",
       "                         'max_depth': [None, 10, 20, 30],\n",
       "                         'min_samples_leaf': [1, 2, 4],\n",
       "                         'min_samples_split': [2, 5, 10],\n",
       "                         'splitter': ['best', 'random']})"
      ]
     },
     "execution_count": 72,
     "metadata": {},
     "output_type": "execute_result"
    }
   ],
   "source": [
    "grid_decision_tree.fit(X_train, y_train)"
   ]
  },
  {
   "cell_type": "code",
   "execution_count": 73,
   "id": "9ab9da10",
   "metadata": {
    "colab": {
     "base_uri": "https://localhost:8080/"
    },
    "id": "805a3f9c",
    "outputId": "50537fec-8cde-40bc-b5d7-3c591db43c92"
   },
   "outputs": [
    {
     "data": {
      "text/plain": [
       "{'criterion': 'entropy',\n",
       " 'max_depth': 30,\n",
       " 'min_samples_leaf': 2,\n",
       " 'min_samples_split': 10,\n",
       " 'splitter': 'random'}"
      ]
     },
     "execution_count": 73,
     "metadata": {},
     "output_type": "execute_result"
    }
   ],
   "source": [
    "grid_decision_tree.best_params_"
   ]
  },
  {
   "cell_type": "code",
   "execution_count": 74,
   "id": "e350edf8",
   "metadata": {
    "id": "63792df3"
   },
   "outputs": [],
   "source": [
    "y_prediction = grid_decision_tree.predict(X_test)"
   ]
  },
  {
   "cell_type": "code",
   "execution_count": 75,
   "id": "e8fda039",
   "metadata": {
    "colab": {
     "base_uri": "https://localhost:8080/"
    },
    "id": "7027bdb7",
    "outputId": "082d6164-55bb-46eb-8eb4-a13013cf8e87"
   },
   "outputs": [
    {
     "name": "stdout",
     "output_type": "stream",
     "text": [
      "Accuracy score on model is 0.85\n"
     ]
    }
   ],
   "source": [
    "model_performance(y_prediction)"
   ]
  },
  {
   "cell_type": "markdown",
   "id": "9ba37395",
   "metadata": {
    "id": "e5990b62"
   },
   "source": [
    "# Random Forest Classifier"
   ]
  },
  {
   "cell_type": "code",
   "execution_count": 76,
   "id": "f1e78dcc",
   "metadata": {
    "id": "6c8b3224"
   },
   "outputs": [],
   "source": [
    "from sklearn.ensemble import RandomForestClassifier"
   ]
  },
  {
   "cell_type": "code",
   "execution_count": 77,
   "id": "b98630f8",
   "metadata": {
    "id": "6d2bbf32"
   },
   "outputs": [],
   "source": [
    "random_forest_classifier_model = RandomForestClassifier()"
   ]
  },
  {
   "cell_type": "code",
   "execution_count": 78,
   "id": "076da8c3",
   "metadata": {
    "id": "5cfb8c5e"
   },
   "outputs": [],
   "source": [
    "parameter_grid = {\n",
    "    \"n_estimators\" : [32, 64, 128, 256],\n",
    "    \"max_features\" : [2, 3, 4],\n",
    "    \"bootstrap\" : [True, False]\n",
    "}"
   ]
  },
  {
   "cell_type": "code",
   "execution_count": 79,
   "id": "796dfca0",
   "metadata": {
    "id": "85a50c50"
   },
   "outputs": [],
   "source": [
    "grid_random_forest_classifier = GridSearchCV(estimator = random_forest_classifier_model, param_grid = parameter_grid, cv = 5)"
   ]
  },
  {
   "cell_type": "code",
   "execution_count": 80,
   "id": "78e9705b",
   "metadata": {
    "colab": {
     "base_uri": "https://localhost:8080/",
     "height": 134
    },
    "id": "69216bb3",
    "outputId": "141ba528-6465-4731-a1f6-84bfdef63337"
   },
   "outputs": [
    {
     "data": {
      "text/plain": [
       "GridSearchCV(cv=5, estimator=RandomForestClassifier(),\n",
       "             param_grid={'bootstrap': [True, False], 'max_features': [2, 3, 4],\n",
       "                         'n_estimators': [32, 64, 128, 256]})"
      ]
     },
     "execution_count": 80,
     "metadata": {},
     "output_type": "execute_result"
    }
   ],
   "source": [
    "grid_random_forest_classifier.fit(X_train, y_train)"
   ]
  },
  {
   "cell_type": "code",
   "execution_count": 81,
   "id": "a0b9c50b",
   "metadata": {
    "colab": {
     "base_uri": "https://localhost:8080/"
    },
    "id": "d2e3478f",
    "outputId": "88e26ea3-1216-4020-fdae-0a4fced985b5"
   },
   "outputs": [
    {
     "data": {
      "text/plain": [
       "{'bootstrap': True, 'max_features': 2, 'n_estimators': 256}"
      ]
     },
     "execution_count": 81,
     "metadata": {},
     "output_type": "execute_result"
    }
   ],
   "source": [
    "grid_random_forest_classifier.best_params_"
   ]
  },
  {
   "cell_type": "code",
   "execution_count": 82,
   "id": "731bf1f3",
   "metadata": {
    "id": "a7ef2b81"
   },
   "outputs": [],
   "source": [
    "y_prediction = grid_random_forest_classifier.predict(X_test)"
   ]
  },
  {
   "cell_type": "code",
   "execution_count": 83,
   "id": "94854654",
   "metadata": {
    "colab": {
     "base_uri": "https://localhost:8080/"
    },
    "id": "e825fe43",
    "outputId": "f6c56be3-4174-4c76-c466-05116580992f"
   },
   "outputs": [
    {
     "name": "stdout",
     "output_type": "stream",
     "text": [
      "Accuracy score on model is 0.85\n"
     ]
    }
   ],
   "source": [
    "model_performance(y_prediction)"
   ]
  },
  {
   "cell_type": "markdown",
   "id": "6bc37086",
   "metadata": {},
   "source": [
    "# Model Evaluation"
   ]
  },
  {
   "cell_type": "code",
   "execution_count": 84,
   "id": "71a04498",
   "metadata": {
    "id": "6cb81319"
   },
   "outputs": [],
   "source": [
    "best_model = grid_svc.best_estimator_"
   ]
  },
  {
   "cell_type": "code",
   "execution_count": 85,
   "id": "df962696",
   "metadata": {
    "colab": {
     "base_uri": "https://localhost:8080/"
    },
    "id": "30cef279",
    "outputId": "c32f49e3-381c-4e97-83b0-7e5d91f88a70"
   },
   "outputs": [
    {
     "data": {
      "text/plain": [
       "['model.pkl']"
      ]
     },
     "execution_count": 85,
     "metadata": {},
     "output_type": "execute_result"
    }
   ],
   "source": [
    "joblib.dump(best_model, \"model.pkl\")"
   ]
  },
  {
   "cell_type": "markdown",
   "id": "5fcec071",
   "metadata": {
    "id": "tCoT9_ygOvZY"
   },
   "source": [
    "# Streamlit Application"
   ]
  },
  {
   "cell_type": "code",
   "execution_count": 86,
   "id": "9f6f2ed7",
   "metadata": {
    "id": "NHpru9AAO-vo"
   },
   "outputs": [],
   "source": [
    "# !pip install streamlit -q"
   ]
  },
  {
   "cell_type": "code",
   "execution_count": 87,
   "id": "ffca91ee",
   "metadata": {
    "colab": {
     "base_uri": "https://localhost:8080/"
    },
    "id": "S5EUNE4lO7gF",
    "outputId": "2baf96c5-6abc-43a8-d6b7-63f261b2b1bd"
   },
   "outputs": [],
   "source": [
    "# !wget -q -O - ipv4.icanhazip.com"
   ]
  },
  {
   "cell_type": "code",
   "execution_count": 88,
   "id": "55916a79",
   "metadata": {
    "colab": {
     "base_uri": "https://localhost:8080/"
    },
    "id": "NPBW1i1aOm8F",
    "outputId": "a74c35c6-a90b-4287-d147-c83461b366da"
   },
   "outputs": [],
   "source": [
    "# !streamlit run app.py & npx localtunnel --port 8501"
   ]
  }
 ],
 "metadata": {
  "colab": {
   "provenance": []
  },
  "kernelspec": {
   "display_name": "Python 3",
   "language": "python",
   "name": "python3"
  },
  "language_info": {
   "codemirror_mode": {
    "name": "ipython",
    "version": 3
   },
   "file_extension": ".py",
   "mimetype": "text/x-python",
   "name": "python",
   "nbconvert_exporter": "python",
   "pygments_lexer": "ipython3",
   "version": "3.6.13"
  }
 },
 "nbformat": 4,
 "nbformat_minor": 5
}
